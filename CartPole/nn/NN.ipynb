{
 "cells": [
  {
   "cell_type": "code",
   "execution_count": 2,
   "metadata": {},
   "outputs": [],
   "source": [
    "class NN:\n",
    "    import numpy as np\n",
    "    import ActivationFunction\n",
    "    def __init__(self,x,v,theta,av):\n",
    "        self.x = x\n",
    "        self.v = v\n",
    "        self.theta = theta\n",
    "        self.av = av"
   ]
  },
  {
   "cell_type": "code",
   "execution_count": 3,
   "metadata": {},
   "outputs": [],
   "source": [
    "    def init_network():\n",
    "        network = {}\n",
    "        network['W1'] = np.ones((4,3))/10\n",
    "        network['B1'] = np.ones(3)/10\n",
    "        network['W2'] = np.ones((3,2))/10\n",
    "        network['B2'] = np.ones(2)/10\n",
    "        network['W3'] = np.ones((2,1))/10\n",
    "        network['B3'] = np.ones(1)/10\n",
    "        \n",
    "        return network"
   ]
  },
  {
   "cell_type": "code",
   "execution_count": 1,
   "metadata": {},
   "outputs": [],
   "source": [
    "    def create_input_neuron(observation):\n",
    "        X = observation\n",
    "        \n",
    "        return X"
   ]
  },
  {
   "cell_type": "code",
   "execution_count": 4,
   "metadata": {},
   "outputs": [],
   "source": [
    "    def forward(network,x,v,theta,av):\n",
    "        W1, W2, W3 = network['W1'], network['W2'], network['W3']\n",
    "        b1, b2, b3 = network['b1'], network['b2'], network['b3']\n",
    "        a1 = np.dot(X,W1) + B1\n",
    "        z1 = sigmoid(a1)\n",
    "        a2 = np.dot(z1,W2) + B2\n",
    "        z2 = sigmoid(a2)\n",
    "        a3 = np.dot(z2,W3) + B3\n",
    "        y = ActivityFunction.softmax_function(a3)\n",
    "        \n",
    "        return y"
   ]
  },
  {
   "cell_type": "code",
   "execution_count": null,
   "metadata": {},
   "outputs": [],
   "source": [
    "    def Classification_two(y):\n",
    "        if(y>0.5):\n",
    "            return 1\n",
    "        else :\n",
    "            return 0"
   ]
  },
  {
   "cell_type": "code",
   "execution_count": 2,
   "metadata": {},
   "outputs": [],
   "source": [
    "    def update(individual):\n",
    "        network['W1'] = np.reshape(individual[:11],(4,3))\n",
    "        network['B1'] = np.reshape(individual[11:14],(1,3))\n",
    "        network['W2'] = np.reshape(individual[14:21],(3,2))\n",
    "        network['B2'] = np.reshape(individual[21:23],(1,2))\n",
    "        network['W3'] = np.reshape(individual[23:25],(2,1))\n",
    "        network['B3'] = np.reshape(individual[25:26],(1,1))"
   ]
  },
  {
   "cell_type": "code",
   "execution_count": 3,
   "metadata": {},
   "outputs": [],
   "source": [
    "    def conclusion(observation,individual):\n",
    "        X = create_input_neuron(observation)\n",
    "        y = forward(network,X[0],X[1],X[2],X[3])\n",
    "        action = Classification_two(y)\n",
    "        return action"
   ]
  },
  {
   "cell_type": "markdown",
   "metadata": {},
   "source": [
    "染色体：26\n",
    "W1:0-12\n",
    "reshahpe{4,3]\n",
    "B1:13-16\n"
   ]
  }
 ],
 "metadata": {
  "kernelspec": {
   "display_name": "Python 3",
   "language": "python",
   "name": "python3"
  },
  "language_info": {
   "codemirror_mode": {
    "name": "ipython",
    "version": 3
   },
   "file_extension": ".py",
   "mimetype": "text/x-python",
   "name": "python",
   "nbconvert_exporter": "python",
   "pygments_lexer": "ipython3",
   "version": "3.5.2"
  }
 },
 "nbformat": 4,
 "nbformat_minor": 2
}
