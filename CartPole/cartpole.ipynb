{
 "cells": [
  {
   "cell_type": "code",
   "execution_count": 1,
   "metadata": {},
   "outputs": [],
   "source": [
    "import numpy as np\n",
    "from deap import algorithms,base,creator,tools,gp\n",
    "import random\n",
    "import operator\n",
    "import math\n",
    "import gym\n",
    "from gym import wrappers\n",
    "import time"
   ]
  },
  {
   "cell_type": "code",
   "execution_count": 2,
   "metadata": {},
   "outputs": [
    {
     "name": "stdout",
     "output_type": "stream",
     "text": [
      "\u001b[33mWARN: gym.spaces.Box autodetected dtype as <class 'numpy.float32'>. Please provide explicit dtype.\u001b[0m\n"
     ]
    }
   ],
   "source": [
    "ENV = gym.make(\"CartPole-v0\")\n",
    "MAX_STEPS=200\n",
    "NGEN=30"
   ]
  },
  {
   "cell_type": "code",
   "execution_count": 3,
   "metadata": {},
   "outputs": [],
   "source": [
    "class Myclass:\n",
    "    count=0\n",
    "    FT_avg=[]\n",
    "    FT_max=[]\n",
    "    gen=[]\n",
    "    for i in range(1,NGEN+1):\n",
    "        gen.append(i)"
   ]
  },
  {
   "cell_type": "code",
   "execution_count": 4,
   "metadata": {},
   "outputs": [],
   "source": [
    "def safeDiv(left,right):\n",
    "    if(right==0):\n",
    "        return 0\n",
    "    try:\n",
    "        return left/right\n",
    "    except ZeroDivisionError:\n",
    "        return 0\n",
    "\n",
    "pset = gp.PrimitiveSet(\"MAIN\", 2)\n",
    "pset.addPrimitive(operator.add, 2)\n",
    "pset.addPrimitive(operator.sub, 2)\n",
    "pset.addPrimitive(operator.mul, 2)\n",
    "pset.addPrimitive(safeDiv,  2)\n",
    "pset.addPrimitive(operator.neg, 1)\n",
    "pset.addPrimitive(math.cos, 1)\n",
    "pset.addPrimitive(math.sin, 1)\n",
    "pset.addEphemeralConstant(\"rand101\", lambda:random.randint(-1,1))\n",
    "\"\"\"\n",
    "pset.renameArguments(ARG0='x')\n",
    "pset.renameArguments(ARG1='v')\n",
    "pset.renameArguments(ARG2='theta')\n",
    "pset.renameArguments(ARG3='av')\n",
    "\"\"\"\n",
    "pset.renameArguments(ARG0='theta')\n",
    "pset.renameArguments(ARG1='av')\n",
    "'''\n",
    "pset.addEphemeralConstant(\"theta2\", lambda:ARG0*2)\n",
    "pset.addEphemeralConstant(\"theta3\", lambda:ARG0*3)\n",
    "pset.addEphemeralConstant(\"theta4\", lambda:ARG0*4)\n",
    "'''\n",
    "creator.create(\"FitnessMax\",base.Fitness,weights=(1.0,))\n",
    "creator.create(\"Individual\",gp.PrimitiveTree,fitness=creator.FitnessMax)\n",
    "\n",
    "toolbox = base.Toolbox()\n",
    "toolbox.register(\"expr\", gp.genHalfAndHalf, pset=pset, min_=1, max_=2)\n",
    "toolbox.register(\"individual\", tools.initIterate, creator.Individual, toolbox.expr)\n",
    "toolbox.register(\"population\",tools.initRepeat,list,toolbox.individual)\n",
    "toolbox.register(\"compile\", gp.compile, pset=pset)\n"
   ]
  },
  {
   "cell_type": "code",
   "execution_count": 5,
   "metadata": {},
   "outputs": [],
   "source": [
    "def EV(individual):\n",
    "        func = toolbox.compile(expr=individual)\n",
    "        observation = ENV.reset()\n",
    "        episode_reward=0\n",
    "        for step in range(MAX_STEPS):\n",
    "            action = get_action(observation,individual)\n",
    "\n",
    "            observation_next,reward,done,info_not = ENV.step(action)\n",
    "            if done:\n",
    "                ENV.render()\n",
    "                break\n",
    "\n",
    "            observation = observation_next\n",
    "            episode_reward += reward\n",
    "            if Myclass.count>=2700:\n",
    "                env = wrappers.Monitor(env,'./movie/cartpole-experiment-1')\n",
    "            ENV.render()\n",
    "        Myclass.count+=1\n",
    "        return episode_reward,"
   ]
  },
  {
   "cell_type": "code",
   "execution_count": 7,
   "metadata": {},
   "outputs": [],
   "source": [
    "toolbox.register(\"evaluate\", EV)\n",
    "toolbox.register(\"mate\", gp.cxOnePoint)\n",
    "#toolbox.register(\"mutate\", tools.mutGaussian, mu=0, sigma=1, indpb = 0.1)\n",
    "toolbox.register(\"select\",tools.selTournament,tournsize=3)\n",
    "toolbox.register(\"expr_mut\", gp.genFull, min_= 0, max_ = 2)\n",
    "toolbox.register(\"mutate\",gp.mutUniform,expr=toolbox.expr_mut,pset=pset)"
   ]
  },
  {
   "cell_type": "code",
   "execution_count": 8,
   "metadata": {},
   "outputs": [],
   "source": [
    "def get_action(observation,individual):\n",
    "    action = decide_action(observation,individual) ##\n",
    "    return action\n",
    "    #observation[カートの位置，カートの速度，棒の角度，棒の角速度]\n",
    "def decide_action(observation,individual):\n",
    "    func = toolbox.compile(expr=individual)\n",
    "    if(func(observation[2],observation[3]) >= 10):\n",
    "        return 1\n",
    "    else :\n",
    "        return 0"
   ]
  },
  {
   "cell_type": "code",
   "execution_count": 9,
   "metadata": {},
   "outputs": [],
   "source": [
    "def main():\n",
    "        random.seed(1)\n",
    "        pop = toolbox.population(n=100)\n",
    "        hof = tools.HallOfFame(1)\n",
    "\n",
    "        stats_fit= tools.Statistics(lambda ind: ind.fitness.values)\n",
    "        stats_size = tools.Statistics(len)\n",
    "\n",
    "        mstats = tools.MultiStatistics(fitness=stats_fit,size=stats_size)\n",
    "        mstats.register(\"avg\", np.mean)\n",
    "        mstats.register(\"std\", np.std)\n",
    "        mstats.register(\"min\", np.min)\n",
    "        mstats.register(\"max\", np.max)\n",
    "        CXPB=0.5\n",
    "        MUTPB=0.1\n",
    "        pop,log = algorithms.eaSimple(pop, toolbox, CXPB, MUTPB, NGEN, stats = mstats, halloffame=hof,verbose=True)\n",
    "        return pop, log, hof"
   ]
  },
  {
   "cell_type": "code",
   "execution_count": 11,
   "metadata": {},
   "outputs": [
    {
     "name": "stdout",
     "output_type": "stream",
     "text": [
      "   \t      \t           fitness            \t             size             \n",
      "   \t      \t------------------------------\t------------------------------\n",
      "gen\tnevals\tavg \tmax\tmin\tstd   \tavg \tmax\tmin\tstd   \n",
      "0  \t100   \t8.93\t33 \t7  \t3.1153\t3.56\t7  \t2  \t1.5318\n",
      "1  \t49    \t9.41\t33 \t7  \t3.67449\t3.66\t8  \t2  \t1.56984\n",
      "2  \t57    \t10.45\t38 \t7  \t5.78684\t3.74\t8  \t1  \t1.63475\n",
      "3  \t65    \t12   \t44 \t7  \t7.45654\t4.01\t10 \t1  \t1.95701\n",
      "4  \t59    \t16.33\t104\t7  \t13.4403\t4.84\t9  \t1  \t2.01851\n",
      "5  \t58    \t21.07\t104\t7  \t18.6704\t5.33\t10 \t1  \t2.20479\n",
      "6  \t62    \t30.2 \t199\t7  \t30.861 \t5.94\t11 \t1  \t2.39925\n",
      "7  \t53    \t39.69\t199\t7  \t44.9165\t6.04\t13 \t1  \t2.28   \n",
      "8  \t48    \t51.32\t199\t7  \t53.5548\t6.18\t15 \t1  \t2.13251\n",
      "9  \t43    \t75   \t199\t7  \t72.3003\t5.89\t11 \t1  \t2.05375\n",
      "10 \t62    \t68.99\t199\t7  \t76.5086\t6.04\t14 \t3  \t2.06359\n",
      "11 \t43    \t90.41\t199\t7  \t80.3006\t6.49\t15 \t3  \t2.28252\n",
      "12 \t53    \t89.03\t199\t7  \t82.7008\t6.75\t23 \t3  \t2.98454\n",
      "13 \t56    \t93.84\t199\t7  \t85.1171\t6.78\t23 \t1  \t3.10348\n",
      "14 \t57    \t91.39\t199\t7  \t87.923 \t6.69\t19 \t1  \t3.16131\n",
      "15 \t58    \t87.13\t199\t7  \t86.2669\t7.62\t19 \t3  \t3.29782\n",
      "16 \t44    \t109.62\t199\t7  \t87.197 \t7.85\t19 \t1  \t3.25692\n"
     ]
    },
    {
     "ename": "UnboundLocalError",
     "evalue": "local variable 'env' referenced before assignment",
     "output_type": "error",
     "traceback": [
      "\u001b[0;31m---------------------------------------------------------------------------\u001b[0m",
      "\u001b[0;31mUnboundLocalError\u001b[0m                         Traceback (most recent call last)",
      "\u001b[0;32m<ipython-input-11-b19191c91bfb>\u001b[0m in \u001b[0;36m<module>\u001b[0;34m()\u001b[0m\n\u001b[1;32m      1\u001b[0m \u001b[0;32mif\u001b[0m \u001b[0m__name__\u001b[0m\u001b[0;34m==\u001b[0m\u001b[0;34m'__main__'\u001b[0m\u001b[0;34m:\u001b[0m\u001b[0;34m\u001b[0m\u001b[0m\n\u001b[0;32m----> 2\u001b[0;31m     \u001b[0mpop\u001b[0m\u001b[0;34m,\u001b[0m\u001b[0mlog\u001b[0m\u001b[0;34m,\u001b[0m\u001b[0mhof\u001b[0m \u001b[0;34m=\u001b[0m \u001b[0mmain\u001b[0m\u001b[0;34m(\u001b[0m\u001b[0;34m)\u001b[0m\u001b[0;34m\u001b[0m\u001b[0m\n\u001b[0m\u001b[1;32m      3\u001b[0m     \u001b[0mexpr\u001b[0m \u001b[0;34m=\u001b[0m \u001b[0mtools\u001b[0m\u001b[0;34m.\u001b[0m\u001b[0mselBest\u001b[0m\u001b[0;34m(\u001b[0m\u001b[0mpop\u001b[0m\u001b[0;34m,\u001b[0m\u001b[0;36m1\u001b[0m\u001b[0;34m)\u001b[0m\u001b[0;34m[\u001b[0m\u001b[0;36m0\u001b[0m\u001b[0;34m]\u001b[0m\u001b[0;34m\u001b[0m\u001b[0m\n\u001b[1;32m      4\u001b[0m     \u001b[0mprint\u001b[0m\u001b[0;34m(\u001b[0m\u001b[0mexpr\u001b[0m\u001b[0;34m)\u001b[0m\u001b[0;34m\u001b[0m\u001b[0m\n",
      "\u001b[0;32m<ipython-input-9-a26e3d00ec10>\u001b[0m in \u001b[0;36mmain\u001b[0;34m()\u001b[0m\n\u001b[1;32m     14\u001b[0m         \u001b[0mCXPB\u001b[0m\u001b[0;34m=\u001b[0m\u001b[0;36m0.5\u001b[0m\u001b[0;34m\u001b[0m\u001b[0m\n\u001b[1;32m     15\u001b[0m         \u001b[0mMUTPB\u001b[0m\u001b[0;34m=\u001b[0m\u001b[0;36m0.1\u001b[0m\u001b[0;34m\u001b[0m\u001b[0m\n\u001b[0;32m---> 16\u001b[0;31m         \u001b[0mpop\u001b[0m\u001b[0;34m,\u001b[0m\u001b[0mlog\u001b[0m \u001b[0;34m=\u001b[0m \u001b[0malgorithms\u001b[0m\u001b[0;34m.\u001b[0m\u001b[0meaSimple\u001b[0m\u001b[0;34m(\u001b[0m\u001b[0mpop\u001b[0m\u001b[0;34m,\u001b[0m \u001b[0mtoolbox\u001b[0m\u001b[0;34m,\u001b[0m \u001b[0mCXPB\u001b[0m\u001b[0;34m,\u001b[0m \u001b[0mMUTPB\u001b[0m\u001b[0;34m,\u001b[0m \u001b[0mNGEN\u001b[0m\u001b[0;34m,\u001b[0m \u001b[0mstats\u001b[0m \u001b[0;34m=\u001b[0m \u001b[0mmstats\u001b[0m\u001b[0;34m,\u001b[0m \u001b[0mhalloffame\u001b[0m\u001b[0;34m=\u001b[0m\u001b[0mhof\u001b[0m\u001b[0;34m,\u001b[0m\u001b[0mverbose\u001b[0m\u001b[0;34m=\u001b[0m\u001b[0;32mTrue\u001b[0m\u001b[0;34m)\u001b[0m\u001b[0;34m\u001b[0m\u001b[0m\n\u001b[0m\u001b[1;32m     17\u001b[0m         \u001b[0;32mreturn\u001b[0m \u001b[0mpop\u001b[0m\u001b[0;34m,\u001b[0m \u001b[0mlog\u001b[0m\u001b[0;34m,\u001b[0m \u001b[0mhof\u001b[0m\u001b[0;34m\u001b[0m\u001b[0m\n",
      "\u001b[0;32m/usr/local/lib/python3.5/dist-packages/deap/algorithms.py\u001b[0m in \u001b[0;36meaSimple\u001b[0;34m(population, toolbox, cxpb, mutpb, ngen, stats, halloffame, verbose)\u001b[0m\n\u001b[1;32m    171\u001b[0m         \u001b[0minvalid_ind\u001b[0m \u001b[0;34m=\u001b[0m \u001b[0;34m[\u001b[0m\u001b[0mind\u001b[0m \u001b[0;32mfor\u001b[0m \u001b[0mind\u001b[0m \u001b[0;32min\u001b[0m \u001b[0moffspring\u001b[0m \u001b[0;32mif\u001b[0m \u001b[0;32mnot\u001b[0m \u001b[0mind\u001b[0m\u001b[0;34m.\u001b[0m\u001b[0mfitness\u001b[0m\u001b[0;34m.\u001b[0m\u001b[0mvalid\u001b[0m\u001b[0;34m]\u001b[0m\u001b[0;34m\u001b[0m\u001b[0m\n\u001b[1;32m    172\u001b[0m         \u001b[0mfitnesses\u001b[0m \u001b[0;34m=\u001b[0m \u001b[0mtoolbox\u001b[0m\u001b[0;34m.\u001b[0m\u001b[0mmap\u001b[0m\u001b[0;34m(\u001b[0m\u001b[0mtoolbox\u001b[0m\u001b[0;34m.\u001b[0m\u001b[0mevaluate\u001b[0m\u001b[0;34m,\u001b[0m \u001b[0minvalid_ind\u001b[0m\u001b[0;34m)\u001b[0m\u001b[0;34m\u001b[0m\u001b[0m\n\u001b[0;32m--> 173\u001b[0;31m         \u001b[0;32mfor\u001b[0m \u001b[0mind\u001b[0m\u001b[0;34m,\u001b[0m \u001b[0mfit\u001b[0m \u001b[0;32min\u001b[0m \u001b[0mzip\u001b[0m\u001b[0;34m(\u001b[0m\u001b[0minvalid_ind\u001b[0m\u001b[0;34m,\u001b[0m \u001b[0mfitnesses\u001b[0m\u001b[0;34m)\u001b[0m\u001b[0;34m:\u001b[0m\u001b[0;34m\u001b[0m\u001b[0m\n\u001b[0m\u001b[1;32m    174\u001b[0m             \u001b[0mind\u001b[0m\u001b[0;34m.\u001b[0m\u001b[0mfitness\u001b[0m\u001b[0;34m.\u001b[0m\u001b[0mvalues\u001b[0m \u001b[0;34m=\u001b[0m \u001b[0mfit\u001b[0m\u001b[0;34m\u001b[0m\u001b[0m\n\u001b[1;32m    175\u001b[0m \u001b[0;34m\u001b[0m\u001b[0m\n",
      "\u001b[0;32m<ipython-input-5-7b1a0f31f96b>\u001b[0m in \u001b[0;36mEV\u001b[0;34m(individual)\u001b[0m\n\u001b[1;32m     14\u001b[0m             \u001b[0mepisode_reward\u001b[0m \u001b[0;34m+=\u001b[0m \u001b[0mreward\u001b[0m\u001b[0;34m\u001b[0m\u001b[0m\n\u001b[1;32m     15\u001b[0m             \u001b[0;32mif\u001b[0m \u001b[0mMyclass\u001b[0m\u001b[0;34m.\u001b[0m\u001b[0mcount\u001b[0m\u001b[0;34m>=\u001b[0m\u001b[0;36m2700\u001b[0m\u001b[0;34m:\u001b[0m\u001b[0;34m\u001b[0m\u001b[0m\n\u001b[0;32m---> 16\u001b[0;31m                 \u001b[0menv\u001b[0m \u001b[0;34m=\u001b[0m \u001b[0mwrappers\u001b[0m\u001b[0;34m.\u001b[0m\u001b[0mMonitor\u001b[0m\u001b[0;34m(\u001b[0m\u001b[0menv\u001b[0m\u001b[0;34m,\u001b[0m\u001b[0;34m'./movie/cartpole-experiment-1'\u001b[0m\u001b[0;34m)\u001b[0m\u001b[0;34m\u001b[0m\u001b[0m\n\u001b[0m\u001b[1;32m     17\u001b[0m             \u001b[0mENV\u001b[0m\u001b[0;34m.\u001b[0m\u001b[0mrender\u001b[0m\u001b[0;34m(\u001b[0m\u001b[0;34m)\u001b[0m\u001b[0;34m\u001b[0m\u001b[0m\n\u001b[1;32m     18\u001b[0m         \u001b[0mMyclass\u001b[0m\u001b[0;34m.\u001b[0m\u001b[0mcount\u001b[0m\u001b[0;34m+=\u001b[0m\u001b[0;36m1\u001b[0m\u001b[0;34m\u001b[0m\u001b[0m\n",
      "\u001b[0;31mUnboundLocalError\u001b[0m: local variable 'env' referenced before assignment"
     ]
    }
   ],
   "source": [
    "if __name__=='__main__':\n",
    "    pop,log,hof = main()\n",
    "    expr = tools.selBest(pop,1)[0]\n",
    "    print(expr)"
   ]
  },
  {
   "cell_type": "code",
   "execution_count": null,
   "metadata": {},
   "outputs": [],
   "source": []
  }
 ],
 "metadata": {
  "kernelspec": {
   "display_name": "Python 3",
   "language": "python",
   "name": "python3"
  },
  "language_info": {
   "codemirror_mode": {
    "name": "ipython",
    "version": 3
   },
   "file_extension": ".py",
   "mimetype": "text/x-python",
   "name": "python",
   "nbconvert_exporter": "python",
   "pygments_lexer": "ipython3",
   "version": "3.5.2"
  }
 },
 "nbformat": 4,
 "nbformat_minor": 2
}
